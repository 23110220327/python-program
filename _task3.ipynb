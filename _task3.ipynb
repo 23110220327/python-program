{
 "cells": [
  {
   "cell_type": "markdown",
   "id": "991da348-ecac-4df8-824f-dbe69f2d4702",
   "metadata": {},
   "source": [
    "NAME : Pallavi Pawar\n",
    "BRANCH :CO"
   ]
  },
  {
   "cell_type": "markdown",
   "id": "a6f0c149-f535-48e5-85bd-e60225d56068",
   "metadata": {},
   "source": [
    "NUMPY FUNCTION"
   ]
  },
  {
   "cell_type": "code",
   "execution_count": 1,
   "id": "ef044c9d-e24a-4921-a636-98bf7db528ca",
   "metadata": {},
   "outputs": [],
   "source": [
    "import numpy as np\n",
    "\n"
   ]
  },
  {
   "cell_type": "code",
   "execution_count": 18,
   "id": "ce30a27c-da79-4058-b3b6-81c76fa34942",
   "metadata": {},
   "outputs": [],
   "source": [
    "names = np.array([\"Alice\", \"Bob\", \"Charlie\", \"David\", \"Eva\"])\n",
    "math_marks = np.array([88, 75, 95, 64, 78])\n",
    "science_marks = np.array([92, 85, 90, 70, 88])\n"
   ]
  },
  {
   "cell_type": "code",
   "execution_count": 16,
   "id": "b22d9529-301e-4068-9be7-37305fd27798",
   "metadata": {},
   "outputs": [
    {
     "name": "stdout",
     "output_type": "stream",
     "text": [
      "Average Math Marks: 80.0\n",
      "Average Science Marks: 85.0\n"
     ]
    }
   ],
   "source": [
    "avg_math = np.mean(math_marks)\n",
    "avg_science = np.mean(science_marks)\n",
    "print(\"Average Math Marks:\", avg_math)\n",
    "print(\"Average Science Marks:\", avg_science)\n"
   ]
  },
  {
   "cell_type": "code",
   "execution_count": 4,
   "id": "7c11d027-dd28-45ad-9f83-77c10ad89e9a",
   "metadata": {},
   "outputs": [
    {
     "name": "stdout",
     "output_type": "stream",
     "text": [
      "Topper in Math: Charlie\n",
      "Topper in Science: Alice\n"
     ]
    }
   ],
   "source": [
    "math_topper = names[np.argmax(math_marks)]\n",
    "science_topper = names[np.argmax(science_marks)]\n",
    "print(\"Topper in Math:\", math_topper)\n",
    "print(\"Topper in Science:\", science_topper)\n"
   ]
  },
  {
   "cell_type": "code",
   "execution_count": 5,
   "id": "3a961947-da91-4b26-831f-e7d5ed9d0242",
   "metadata": {},
   "outputs": [
    {
     "name": "stdout",
     "output_type": "stream",
     "text": [
      "Students with Math marks > 80: ['Alice' 'Charlie']\n"
     ]
    }
   ],
   "source": [
    "high_math_scorers = names[math_marks > 80]\n",
    "print(\"Students with Math marks > 80:\", high_math_scorers)"
   ]
  },
  {
   "cell_type": "code",
   "execution_count": 8,
   "id": "327e046c-52f8-407a-b363-254f5cd9ff7a",
   "metadata": {},
   "outputs": [
    {
     "name": "stdout",
     "output_type": "stream",
     "text": [
      "Students sorted by Science marks:\n",
      "Alice : 92\n",
      "Charlie : 90\n",
      "Eva : 88\n",
      "Bob : 85\n",
      "David : 70\n"
     ]
    }
   ],
   "source": [
    "sorted_by_science = np.argsort(-science_marks)  # Descending\n",
    "print(\"Students sorted by Science marks:\")\n",
    "for i in sorted_by_science:\n",
    "    print(names[i], \":\", science_marks[i])\n"
   ]
  },
  {
   "cell_type": "code",
   "execution_count": 11,
   "id": "9111db90-a9c6-4bcf-b67b-04744ef1a8a9",
   "metadata": {},
   "outputs": [],
   "source": [
    "names = np.append(names, \"Farah\")\n",
    "math_marks = np.append(math_marks, 90)\n",
    "science_marks = np.append(science_marks, 95)\n"
   ]
  },
  {
   "cell_type": "code",
   "execution_count": 12,
   "id": "001a68dd-1807-4e4f-8c9e-6e6895db0049",
   "metadata": {},
   "outputs": [
    {
     "name": "stdout",
     "output_type": "stream",
     "text": [
      "New Average Science Marks: 87.85714285714286\n"
     ]
    }
   ],
   "source": [
    "print(\"New Average Science Marks:\", np.mean(science_marks))"
   ]
  }
 ],
 "metadata": {
  "kernelspec": {
   "display_name": "Python 3 (ipykernel)",
   "language": "python",
   "name": "python3"
  },
  "language_info": {
   "codemirror_mode": {
    "name": "ipython",
    "version": 3
   },
   "file_extension": ".py",
   "mimetype": "text/x-python",
   "name": "python",
   "nbconvert_exporter": "python",
   "pygments_lexer": "ipython3",
   "version": "3.13.5"
  }
 },
 "nbformat": 4,
 "nbformat_minor": 5
}
