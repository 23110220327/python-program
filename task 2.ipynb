{
 "cells": [
  {
   "cell_type": "markdown",
   "id": "3e2ca9e6-71da-4b59-8720-8e206aa292d4",
   "metadata": {},
   "source": [
    "NAME : Pallavi Pawar\n",
    "BRANCH : co"
   ]
  },
  {
   "cell_type": "markdown",
   "id": "e7de9989-39c1-4384-8bd7-47767a8d4bb3",
   "metadata": {},
   "source": [
    " task 2 : core python"
   ]
  },
  {
   "cell_type": "markdown",
   "id": "53132f8d-24cb-47c7-95ae-95e5c72acb40",
   "metadata": {},
   "source": [
    "string"
   ]
  },
  {
   "cell_type": "code",
   "execution_count": 1,
   "id": "d5a16219-b7c8-4134-bd5d-71b44e9abd38",
   "metadata": {},
   "outputs": [
    {
     "name": "stdout",
     "output_type": "stream",
     "text": [
      "Name: Pallavi\n"
     ]
    }
   ],
   "source": [
    "name = \"Pallavi\"\n",
    "print(\"Name:\", name)"
   ]
  },
  {
   "cell_type": "code",
   "execution_count": 2,
   "id": "2dbc8ea1-db79-4dd6-83e1-20b64ecca1e3",
   "metadata": {},
   "outputs": [
    {
     "name": "stdout",
     "output_type": "stream",
     "text": [
      "Concatenated String: Hello, Pallavi\n"
     ]
    }
   ],
   "source": [
    "# Joining two strings together\n",
    "welcome = \"Hello, \" + name\n",
    "print(\"Concatenated String:\", welcome)"
   ]
  },
  {
   "cell_type": "code",
   "execution_count": 3,
   "id": "b00bc7b8-666c-4282-8cda-eae3875a7e0b",
   "metadata": {},
   "outputs": [
    {
     "name": "stdout",
     "output_type": "stream",
     "text": [
      "Length of name: 7\n"
     ]
    }
   ],
   "source": [
    "# Finding how many characters are in the string\n",
    "length = len(name)\n",
    "print(\"Length of name:\", length)"
   ]
  },
  {
   "cell_type": "code",
   "execution_count": 4,
   "id": "4836c0fb-276e-4d13-9c4d-4d3e9303cdb4",
   "metadata": {},
   "outputs": [
    {
     "name": "stdout",
     "output_type": "stream",
     "text": [
      "First character: P\n",
      "Last character: i\n"
     ]
    }
   ],
   "source": [
    "# Accessing specific characters using index\n",
    "print(\"First character:\", name[0]) \n",
    "print(\"Last character:\", name[-1])   "
   ]
  },
  {
   "cell_type": "code",
   "execution_count": 5,
   "id": "16ec12b9-fe64-4c47-bc09-3add9e43998b",
   "metadata": {},
   "outputs": [
    {
     "name": "stdout",
     "output_type": "stream",
     "text": [
      "First 3 letters: Pal\n",
      "Last 3 letters: avi\n"
     ]
    }
   ],
   "source": [
    "# Getting parts of the string (substring)\n",
    "print(\"First 3 letters:\", name[:3])    \n",
    "print(\"Last 3 letters:\", name[-3:])   "
   ]
  },
  {
   "cell_type": "code",
   "execution_count": 6,
   "id": "ebeadaed-84b4-4415-9a98-23182b27fc79",
   "metadata": {},
   "outputs": [
    {
     "name": "stdout",
     "output_type": "stream",
     "text": [
      "Uppercase: PALLAVI\n",
      "Lowercase: pallavi\n",
      "Replace 'a' with '@': P@ll@vi\n",
      "Is alphabetic: True\n",
      "Starts with 'P': True\n"
     ]
    }
   ],
   "source": [
    "# Using built-in string functions\n",
    "print(\"Uppercase:\", name.upper())               # Converts to uppercase\n",
    "print(\"Lowercase:\", name.lower())               # Converts to lowercase\n",
    "print(\"Replace 'a' with '@':\", name.replace(\"a\", \"@\"))  # Replaces a with @\n",
    "print(\"Is alphabetic:\", name.isalpha())         # Checks if all characters are letters\n",
    "print(\"Starts with 'P':\", name.startswith(\"P\")) # Checks if string starts with 'P'"
   ]
  },
  {
   "cell_type": "code",
   "execution_count": 7,
   "id": "28775aa5-c3a2-40b8-8bfd-d8a7536e085f",
   "metadata": {},
   "outputs": [
    {
     "name": "stdout",
     "output_type": "stream",
     "text": [
      "\n",
      "Multiline String:\n",
      " Python is\n",
      "a fun and powerful\n",
      "language.\n"
     ]
    }
   ],
   "source": [
    "# Writing a string over multiple lines\n",
    "quote = \"\"\"Python is\n",
    "a fun and powerful\n",
    "language.\"\"\"\n",
    "print(\"\\nMultiline String:\\n\", quote)"
   ]
  },
  {
   "cell_type": "code",
   "execution_count": 8,
   "id": "ad5d30cf-7b86-4c91-b979-a9394ced9e48",
   "metadata": {},
   "outputs": [
    {
     "name": "stdout",
     "output_type": "stream",
     "text": [
      "Formatted String: My name is Pallavi and I am 18 years old.\n"
     ]
    }
   ],
   "source": [
    "# Inserting variables inside a string\n",
    "age = 18\n",
    "intro = f\"My name is {name} and I am {age} years old.\"\n",
    "print(\"Formatted String:\", intro)"
   ]
  },
  {
   "cell_type": "markdown",
   "id": "2e19e43f-0c59-415e-ae9d-f89232240ae9",
   "metadata": {},
   "source": [
    "Assignment opertor"
   ]
  },
  {
   "cell_type": "code",
   "execution_count": 9,
   "id": "739ff508-e100-4ce2-9e19-0d7c35ef8c2a",
   "metadata": {},
   "outputs": [
    {
     "name": "stdout",
     "output_type": "stream",
     "text": [
      "Step 1 - x = 10\n"
     ]
    }
   ],
   "source": [
    "# = → Assign value to variable\n",
    "x = 10  # Assign 10 to x\n",
    "print(\"Step 1 - x =\", x)"
   ]
  },
  {
   "cell_type": "code",
   "execution_count": 11,
   "id": "e4be6bf5-934c-40ac-96f0-d8ca15ec04c8",
   "metadata": {},
   "outputs": [
    {
     "name": "stdout",
     "output_type": "stream",
     "text": [
      "After x += 5: 15\n"
     ]
    }
   ],
   "source": [
    "# += (Add and Assign)\n",
    "x += 5  # x = x + 5\n",
    "print(\"After x += 5:\", x) "
   ]
  },
  {
   "cell_type": "code",
   "execution_count": 12,
   "id": "73fa88ae-5193-4f13-8b60-6838865912e2",
   "metadata": {},
   "outputs": [
    {
     "name": "stdout",
     "output_type": "stream",
     "text": [
      "After x -= 3: 12\n"
     ]
    }
   ],
   "source": [
    "# -= (Subtract and Assign)\n",
    "x -= 3  # x = x - 3\n",
    "print(\"After x -= 3:\", x) "
   ]
  },
  {
   "cell_type": "code",
   "execution_count": 13,
   "id": "5e9532f9-51c8-49ee-96d0-d2b63b144f9c",
   "metadata": {},
   "outputs": [
    {
     "name": "stdout",
     "output_type": "stream",
     "text": [
      "After x *= 2: 24\n"
     ]
    }
   ],
   "source": [
    "# *= (Multiply and Assign)\n",
    "x *= 2  # x = x * 2\n",
    "print(\"After x *= 2:\", x)"
   ]
  },
  {
   "cell_type": "code",
   "execution_count": 14,
   "id": "e917a249-f747-46f9-825f-787b75c9bcb6",
   "metadata": {},
   "outputs": [
    {
     "name": "stdout",
     "output_type": "stream",
     "text": [
      "After x /= 4: 6.0\n"
     ]
    }
   ],
   "source": [
    "# /= (Divide and Assign)\n",
    "x /= 4  # x = x / 4\n",
    "print(\"After x /= 4:\", x) "
   ]
  },
  {
   "cell_type": "code",
   "execution_count": 15,
   "id": "2174755f-dfcd-49fb-a892-40487a4f6806",
   "metadata": {},
   "outputs": [
    {
     "name": "stdout",
     "output_type": "stream",
     "text": [
      "After x %= 3: 0.0\n"
     ]
    }
   ],
   "source": [
    "# %= (Modulus and Assign)\n",
    "x %= 3  # x = x % 3\n",
    "print(\"After x %= 3:\", x)"
   ]
  },
  {
   "cell_type": "code",
   "execution_count": 16,
   "id": "323568db-c9a8-4089-b417-dcdc49a8df3f",
   "metadata": {},
   "outputs": [
    {
     "name": "stdout",
     "output_type": "stream",
     "text": [
      "After x **= 3: 8\n"
     ]
    }
   ],
   "source": [
    "# **= (Exponent and Assign)\n",
    "x = 2   # Reset x to 2\n",
    "x **= 3  # x = x ** 3\n",
    "print(\"After x **= 3:\", x)"
   ]
  },
  {
   "cell_type": "code",
   "execution_count": 18,
   "id": "0b126318-9ba1-4c9b-bc92-20f903b5cf63",
   "metadata": {},
   "outputs": [
    {
     "name": "stdout",
     "output_type": "stream",
     "text": [
      "Step 8 - x //= 2: 4\n"
     ]
    }
   ],
   "source": [
    "# //= → Floor divide and assign\n",
    "x //= 2  # x = x // 2\n",
    "print(\"Step 8 - x //= 2:\", x)"
   ]
  },
  {
   "cell_type": "markdown",
   "id": "406b95a0-fd0d-4996-8f33-01ef9de32964",
   "metadata": {},
   "source": [
    "Bitwise operator"
   ]
  },
  {
   "cell_type": "code",
   "execution_count": 19,
   "id": "59042b23-4d1b-46ff-9098-bfc801e7f0c4",
   "metadata": {},
   "outputs": [
    {
     "name": "stdout",
     "output_type": "stream",
     "text": [
      "a = 5 b = 3\n"
     ]
    }
   ],
   "source": [
    "# Define two integers to use in bitwise operations\n",
    "a = 5     # binary: 0101\n",
    "b = 3     # binary: 0011\n",
    "print(\"a =\", a, \"b =\", b)"
   ]
  },
  {
   "cell_type": "code",
   "execution_count": 23,
   "id": "063e7a8d-cf14-4b08-97a6-53a60c89f436",
   "metadata": {},
   "outputs": [
    {
     "name": "stdout",
     "output_type": "stream",
     "text": [
      "Step 1 - a & b: 1\n"
     ]
    }
   ],
   "source": [
    "# & → Bitwise AND\n",
    "result = a & b  \n",
    "print(\"Step 1 - a & b:\", result)"
   ]
  },
  {
   "cell_type": "code",
   "execution_count": 22,
   "id": "f20d196a-2d6d-4483-968d-38517dead0f0",
   "metadata": {},
   "outputs": [
    {
     "name": "stdout",
     "output_type": "stream",
     "text": [
      "Step 2 - a | b: 7\n"
     ]
    }
   ],
   "source": [
    "# | → Bitwise OR\n",
    "result = a | b  \n",
    "print(\"Step 2 - a | b:\", result)"
   ]
  },
  {
   "cell_type": "code",
   "execution_count": 24,
   "id": "10f6b6a0-7072-49a7-8a12-75eda9957a6b",
   "metadata": {},
   "outputs": [
    {
     "name": "stdout",
     "output_type": "stream",
     "text": [
      "Step 3 - a ^ b: 6\n"
     ]
    }
   ],
   "source": [
    "# ^ → Bitwise XOR (Exclusive OR)\n",
    "result = a ^ b  \n",
    "print(\"Step 3 - a ^ b:\", result)"
   ]
  },
  {
   "cell_type": "code",
   "execution_count": 25,
   "id": "9f56d8c3-2c62-4020-9610-c2c0df771808",
   "metadata": {},
   "outputs": [
    {
     "name": "stdout",
     "output_type": "stream",
     "text": [
      "Step 4 - ~a: -6\n"
     ]
    }
   ],
   "source": [
    "# ~ → Bitwise NOT (inverts all bits)\n",
    "result = ~a\n",
    "print(\"Step 4 - ~a:\", result)  "
   ]
  },
  {
   "cell_type": "code",
   "execution_count": 26,
   "id": "a33d7b1f-e85a-416b-8c45-ab9c318f4b72",
   "metadata": {},
   "outputs": [
    {
     "name": "stdout",
     "output_type": "stream",
     "text": [
      "Step 5 - a << 1: 10\n"
     ]
    }
   ],
   "source": [
    "# << → Bitwise Left Shift\n",
    "result = a << 1  \n",
    "print(\"Step 5 - a << 1:\", result)"
   ]
  },
  {
   "cell_type": "code",
   "execution_count": 27,
   "id": "d2c139b1-7f00-438f-9310-1cfeb0ff2b92",
   "metadata": {},
   "outputs": [
    {
     "name": "stdout",
     "output_type": "stream",
     "text": [
      "Step 6 - a >> 1: 2\n"
     ]
    }
   ],
   "source": [
    "# >> → Bitwise Right Shift\n",
    "result = a >> 1  \n",
    "print(\"Step 6 - a >> 1:\", result)"
   ]
  },
  {
   "cell_type": "markdown",
   "id": "bd2f8552-37cb-49fb-9ab2-d7b894257264",
   "metadata": {},
   "source": [
    "List"
   ]
  },
  {
   "cell_type": "code",
   "execution_count": 29,
   "id": "47452138-b178-426a-aa9d-d18698d05353",
   "metadata": {},
   "outputs": [
    {
     "name": "stdout",
     "output_type": "stream",
     "text": [
      "Step 1 - List: ['apple', 'banana', 'cherry']\n"
     ]
    }
   ],
   "source": [
    "fruits = [\"apple\", \"banana\", \"cherry\"]\n",
    "print(\"Step 1 - List:\", fruits)"
   ]
  },
  {
   "cell_type": "code",
   "execution_count": 30,
   "id": "50bf71d3-e0e3-44fa-8cf8-2f1f8216051e",
   "metadata": {},
   "outputs": [
    {
     "name": "stdout",
     "output_type": "stream",
     "text": [
      "Step 2 - First fruit: apple\n"
     ]
    }
   ],
   "source": [
    "# Accessing elements using index (starts at 0)\n",
    "print(\"Step 2 - First fruit:\", fruits[0])\n"
   ]
  },
  {
   "cell_type": "code",
   "execution_count": 31,
   "id": "340daa4a-4ace-446f-9010-f8acf3df092c",
   "metadata": {},
   "outputs": [
    {
     "name": "stdout",
     "output_type": "stream",
     "text": [
      "Step 3 - After change: ['apple', 'mango', 'cherry']\n"
     ]
    }
   ],
   "source": [
    "# Lists are mutable - you can change values\n",
    "fruits[1] = \"mango\"\n",
    "print(\"Step 3 - After change:\", fruits)\n"
   ]
  },
  {
   "cell_type": "code",
   "execution_count": 32,
   "id": "1698f38b-aa59-412c-8615-833edd29257e",
   "metadata": {},
   "outputs": [
    {
     "name": "stdout",
     "output_type": "stream",
     "text": [
      "Step 4 - After append: ['apple', 'mango', 'cherry', 'orange']\n"
     ]
    }
   ],
   "source": [
    "# Append adds an item to the end\n",
    "fruits.append(\"orange\")\n",
    "print(\"Step 4 - After append:\", fruits)\n",
    "\n"
   ]
  },
  {
   "cell_type": "code",
   "execution_count": 33,
   "id": "d51bd8ba-ed40-4b3e-b56b-ecb333c26524",
   "metadata": {},
   "outputs": [
    {
     "name": "stdout",
     "output_type": "stream",
     "text": [
      "Step 5 - After insert: ['apple', 'grapes', 'mango', 'cherry', 'orange']\n"
     ]
    }
   ],
   "source": [
    "# Insert adds an item at a specific position\n",
    "fruits.insert(1, \"grapes\")\n",
    "print(\"Step 5 - After insert:\", fruits)\n"
   ]
  },
  {
   "cell_type": "code",
   "execution_count": 34,
   "id": "3950c70f-0ebf-4d51-ab85-58b625684a92",
   "metadata": {},
   "outputs": [
    {
     "name": "stdout",
     "output_type": "stream",
     "text": [
      "Step 6 - After remove: ['grapes', 'mango', 'cherry', 'orange']\n"
     ]
    }
   ],
   "source": [
    "# Remove by value\n",
    "fruits.remove(\"apple\")\n",
    "print(\"Step 6 - After remove:\", fruits)\n"
   ]
  },
  {
   "cell_type": "code",
   "execution_count": 35,
   "id": "a682188e-e14a-47e1-b1f4-87c032030bdd",
   "metadata": {},
   "outputs": [
    {
     "name": "stdout",
     "output_type": "stream",
     "text": [
      "Step 7 - List length: 4\n"
     ]
    }
   ],
   "source": [
    "# len() gives the number of elements\n",
    "print(\"Step 7 - List length:\", len(fruits))\n",
    "\n"
   ]
  },
  {
   "cell_type": "code",
   "execution_count": 36,
   "id": "d192ba5a-cfe6-41c0-8acb-4ff711855a1a",
   "metadata": {},
   "outputs": [
    {
     "name": "stdout",
     "output_type": "stream",
     "text": [
      "Step 8 - List items:\n",
      "grapes\n",
      "mango\n",
      "cherry\n",
      "orange\n"
     ]
    }
   ],
   "source": [
    "# Loop to print each item\n",
    "print(\"Step 8 - List items:\")\n",
    "for fruit in fruits:\n",
    "    print(fruit)\n",
    "\n"
   ]
  },
  {
   "cell_type": "markdown",
   "id": "608daae4-4a94-41b2-a380-c43f33d599ef",
   "metadata": {},
   "source": [
    "Tuple"
   ]
  },
  {
   "cell_type": "code",
   "execution_count": 37,
   "id": "45add230-c69d-4f81-a991-5386dff94050",
   "metadata": {},
   "outputs": [
    {
     "name": "stdout",
     "output_type": "stream",
     "text": [
      "Step 1 - Tuple: ('red', 'green', 'blue')\n"
     ]
    }
   ],
   "source": [
    "# A tuple is ordered but *immutable*\n",
    "colors = (\"red\", \"green\", \"blue\")\n",
    "print(\"Step 1 - Tuple:\", colors)\n"
   ]
  },
  {
   "cell_type": "code",
   "execution_count": 38,
   "id": "38f5af8a-3838-4298-b4cd-a0d20fa3b35f",
   "metadata": {},
   "outputs": [
    {
     "name": "stdout",
     "output_type": "stream",
     "text": [
      "Step 2 - First color: red\n"
     ]
    }
   ],
   "source": [
    "print(\"Step 2 - First color:\", colors[0])\n"
   ]
  },
  {
   "cell_type": "code",
   "execution_count": 39,
   "id": "6c72bf9b-0999-409b-9143-cc09fe440d4d",
   "metadata": {},
   "outputs": [
    {
     "name": "stdout",
     "output_type": "stream",
     "text": [
      "Step 3 - Tuple length: 3\n"
     ]
    }
   ],
   "source": [
    "print(\"Step 3 - Tuple length:\", len(colors))\n"
   ]
  },
  {
   "cell_type": "code",
   "execution_count": 40,
   "id": "c7b0c9b1-8872-4a68-bba1-b7a836bf13cb",
   "metadata": {},
   "outputs": [
    {
     "name": "stdout",
     "output_type": "stream",
     "text": [
      "Step 4 - Tuple items:\n",
      "red\n",
      "green\n",
      "blue\n"
     ]
    }
   ],
   "source": [
    "print(\"Step 4 - Tuple items:\")\n",
    "for color in colors:\n",
    "    print(color)\n",
    "    "
   ]
  },
  {
   "cell_type": "code",
   "execution_count": 42,
   "id": "28ae319f-36cf-4f3f-9d1e-bfa9402e98b7",
   "metadata": {},
   "outputs": [
    {
     "name": "stdout",
     "output_type": "stream",
     "text": [
      "Step 5 - Single-item tuple: ('only_one',)\n"
     ]
    }
   ],
   "source": [
    "# Tuple with one item must use a comma\n",
    "single = (\"only_one\",)\n",
    "print(\"Step 5 - Single-item tuple:\", single)\n",
    "\n"
   ]
  },
  {
   "cell_type": "code",
   "execution_count": null,
   "id": "7f3761c2-b688-4d3d-a59d-ebabcc903a6f",
   "metadata": {},
   "outputs": [],
   "source": []
  }
 ],
 "metadata": {
  "kernelspec": {
   "display_name": "Python 3 (ipykernel)",
   "language": "python",
   "name": "python3"
  },
  "language_info": {
   "codemirror_mode": {
    "name": "ipython",
    "version": 3
   },
   "file_extension": ".py",
   "mimetype": "text/x-python",
   "name": "python",
   "nbconvert_exporter": "python",
   "pygments_lexer": "ipython3",
   "version": "3.13.5"
  }
 },
 "nbformat": 4,
 "nbformat_minor": 5
}
