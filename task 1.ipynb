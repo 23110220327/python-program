{
 "cells": [
  {
   "cell_type": "markdown",
   "id": "a530299a-9438-4526-b85f-23fd79ee9228",
   "metadata": {},
   "source": [
    "NAME : Pallavi Pawar\n",
    "BRANCH : co\n"
   ]
  },
  {
   "cell_type": "markdown",
   "id": "673d6bfa-babd-435b-a0ea-3a2636c49c60",
   "metadata": {},
   "source": [
    "TASK 1 :Massive .json"
   ]
  },
  {
   "cell_type": "code",
   "execution_count": 4,
   "id": "9ea62169-dbd8-46fc-8e14-55b2f22da6ae",
   "metadata": {},
   "outputs": [
    {
     "name": "stdout",
     "output_type": "stream",
     "text": [
      "massive.json file created successfully!\n"
     ]
    }
   ],
   "source": [
    "import json\n",
    "\n",
    "data = {\n",
    "    \"students\": [\n",
    "        {\"name\": \"Pallavi\", \"age\": 21, \"course\": \"Python\"},\n",
    "        {\"name\": \"Samarth\", \"age\": 22, \"course\": \"Data Science\"},\n",
    "        {\"name\": \"Riya\", \"age\": 20, \"course\": \"AI\"},\n",
    "        {\"name\": \"Kabir\", \"age\": 23, \"course\": \"Cyber Security\"},\n",
    "        {\"name\": \"Anaya\", \"age\": 21, \"course\": \"Web Development\"}\n",
    "    ],\n",
    "    \"batch\": \"August 2025\",\n",
    "    \"total_students\": 5,\n",
    "    \"status\": \"active\",\n",
    "    \"location\": {\n",
    "        \"city\": \"Pune\",\n",
    "        \"state\": \"Maharashtra\",\n",
    "        \"country\": \"India\"\n",
    "    }\n",
    "}\n",
    "\n",
    "with open(\"massive.json\", \"w\") as file:\n",
    "    json.dump(data, file, indent=4)\n",
    "\n",
    "print(\"massive.json file created successfully!\")"
   ]
  },
  {
   "cell_type": "code",
   "execution_count": 5,
   "id": "d0af218e-581a-4c8a-bd37-c86b98243090",
   "metadata": {},
   "outputs": [
    {
     "name": "stdout",
     "output_type": "stream",
     "text": [
      "Formatted Data:\n",
      "{\n",
      "    \"students\": [\n",
      "        {\n",
      "            \"name\": \"Pallavi\",\n",
      "            \"age\": 21,\n",
      "            \"course\": \"Python\"\n",
      "        },\n",
      "        {\n",
      "            \"name\": \"Samarth\",\n",
      "            \"age\": 22,\n",
      "            \"course\": \"Data Science\"\n",
      "        },\n",
      "        {\n",
      "            \"name\": \"Riya\",\n",
      "            \"age\": 20,\n",
      "            \"course\": \"AI\"\n",
      "        },\n",
      "        {\n",
      "            \"name\": \"Kabir\",\n",
      "            \"age\": 23,\n",
      "            \"course\": \"Cyber Security\"\n",
      "        },\n",
      "        {\n",
      "            \"name\": \"Anaya\",\n",
      "            \"age\": 21,\n",
      "            \"course\": \"Web Development\"\n",
      "        }\n",
      "    ],\n",
      "    \"batch\": \"August 2025\",\n",
      "    \"total_students\": 5,\n",
      "    \"status\": \"active\",\n",
      "    \"location\": {\n",
      "        \"city\": \"Pune\",\n",
      "        \"state\": \"Maharashtra\",\n",
      "        \"country\": \"India\"\n",
      "    }\n",
      "}\n"
     ]
    }
   ],
   "source": [
    "with open(\"massive.json\", \"r\") as file:\n",
    "    loaded_data = json.load(file)\n",
    "\n",
    "print(\"Formatted Data:\")\n",
    "print(json.dumps(loaded_data, indent=4))"
   ]
  },
  {
   "cell_type": "code",
   "execution_count": 6,
   "id": "a30c727c-cd15-4b00-a82c-68461bf380da",
   "metadata": {},
   "outputs": [
    {
     "name": "stdout",
     "output_type": "stream",
     "text": [
      "Student Names:\n",
      "- Pallavi\n",
      "- Samarth\n",
      "- Riya\n",
      "- Kabir\n",
      "- Anaya\n"
     ]
    }
   ],
   "source": [
    "print(\"Student Names:\")\n",
    "for student in loaded_data[\"students\"]:\n",
    "    print(\"-\", student[\"name\"])"
   ]
  },
  {
   "cell_type": "code",
   "execution_count": 7,
   "id": "cfbce7a7-c1b5-4a03-b45b-f5f60a8be330",
   "metadata": {},
   "outputs": [
    {
     "name": "stdout",
     "output_type": "stream",
     "text": [
      "City: Pune\n",
      "State: Maharashtra\n",
      "Country: India\n"
     ]
    }
   ],
   "source": [
    "location = loaded_data[\"location\"]\n",
    "print(\"City:\", location[\"city\"])\n",
    "print(\"State:\", location[\"state\"])\n",
    "print(\"Country:\", location[\"country\"])"
   ]
  },
  {
   "cell_type": "code",
   "execution_count": null,
   "id": "20a0b81d-e116-4c30-bd04-894295acbdf0",
   "metadata": {},
   "outputs": [],
   "source": []
  }
 ],
 "metadata": {
  "kernelspec": {
   "display_name": "Python 3 (ipykernel)",
   "language": "python",
   "name": "python3"
  },
  "language_info": {
   "codemirror_mode": {
    "name": "ipython",
    "version": 3
   },
   "file_extension": ".py",
   "mimetype": "text/x-python",
   "name": "python",
   "nbconvert_exporter": "python",
   "pygments_lexer": "ipython3",
   "version": "3.13.5"
  }
 },
 "nbformat": 4,
 "nbformat_minor": 5
}
